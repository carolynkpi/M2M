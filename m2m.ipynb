{
 "cells": [
  {
   "cell_type": "markdown",
   "metadata": {},
   "source": [
    "# Mark-to-Market for a Portfolio of Stocks\n",
    "by Carolyn Koay <br>\n",
    "Last updated on 26 March 2018\n",
    "<br><br>\n",
    "This code takes an input file that details a portfolio of stocks. \n",
    "It then queries the Alphavantage free API to get the latest closing prices of the stocks and the latest currency exchange rates. \n",
    "Finally, the portfolio is valued according to the market price, after converting to the investor's home currency as specified.  "
   ]
  },
  {
   "cell_type": "markdown",
   "metadata": {},
   "source": [
    "## Import Libraries"
   ]
  },
  {
   "cell_type": "code",
   "execution_count": null,
   "metadata": {},
   "outputs": [],
   "source": [
    "import pandas as pd\n",
    "import time\n",
    "import requests\n",
    "import json "
   ]
  },
  {
   "cell_type": "markdown",
   "metadata": {},
   "source": [
    "## Define Functions\n",
    "The functions below are written to query the API more effectively. \n",
    "<br><br>\n",
    "Per best practice, the API key is stored in a text file within the programming environment, to prevent revealing the key in the codes.  The file has one single line shown below. The X's is a dummy for the actual API key which can be obtained for free from Alphavantage. \n",
    "<br><br>\n",
    "alphavantage: XXXXXXXXXXXXXXXX         "
   ]
  },
  {
   "cell_type": "code",
   "execution_count": null,
   "metadata": {},
   "outputs": [],
   "source": [
    "def getKeys(keyFile):\n",
    "    f = open(keyFile)\n",
    "    lines = f.readlines()\n",
    "    f.close()\n",
    "    keys = {}\n",
    "    for l in lines:\n",
    "        k,v = l[:-1].split(':')\n",
    "        keys[k] = v\n",
    "    return keys\n",
    "\n",
    "def getParamString(params):\n",
    "    paramString = ''\n",
    "    for k, v  in params.items():\n",
    "        if paramString == '':\n",
    "            paramString = k + '=' + v\n",
    "        else:\n",
    "            paramString = paramString + '&' + k + '=' + v\n",
    "    return paramString\n",
    "\n",
    "def tryGET(maxTries, reqURL, progress = True, sleep = 5):\n",
    "    reqStatus = -1\n",
    "    returnedStatus = ''\n",
    "    data = {}\n",
    "    tries = 0\n",
    "    \n",
    "    while tries < maxTries: # monitor number of successful requests made. \n",
    "        try:\n",
    "            req = requests.get(reqURL)\n",
    "        except requests.exceptions.RequestException as e:\n",
    "            print(e)\n",
    "            time.sleep(10)   \n",
    "            continue # try indefinitely every 10 seconds until request is successful.\n",
    "            \n",
    "        if progress:\n",
    "            print('Try: %i. ' %(tries+1))\n",
    "        \n",
    "        time.sleep(sleep)\n",
    "        tries +=1\n",
    "        reqStatus = req.status_code\n",
    "        if reqStatus != 200:  \n",
    "            continue # try again if the successful request's returned status is not 200.\n",
    "        else: \n",
    "            data = json.loads(req.text)\n",
    "            if 'Error Message' in data:\n",
    "                returnedStatus = data['Error Message']\n",
    "            else:\n",
    "                returnedStatus = 'OK'\n",
    "                \n",
    "            if returnedStatus != 'OK': \n",
    "                continue # try again if API returned error.\n",
    "            else:\n",
    "                break\n",
    "                \n",
    "    return reqStatus, returnedStatus, data, tries"
   ]
  },
  {
   "cell_type": "markdown",
   "metadata": {},
   "source": [
    "## User Inputs\n",
    "User should review the variables here and change accordingly. "
   ]
  },
  {
   "cell_type": "code",
   "execution_count": null,
   "metadata": {},
   "outputs": [],
   "source": [
    "query_date = '2018-03-23'\n",
    "my_currency = 'SGD'\n",
    "key_file ='API_key.txt'\n",
    "portfolio_file = 'my_portfolio.csv'"
   ]
  },
  {
   "cell_type": "markdown",
   "metadata": {},
   "source": [
    "## Read files\n",
    "An input file that contains the details of the portfolio will be read. \n",
    "The file will have 3 columns: Symbol, Number of shares and Currency, as shown below"
   ]
  },
  {
   "cell_type": "code",
   "execution_count": null,
   "metadata": {},
   "outputs": [],
   "source": [
    "keys = getKeys(key_file)\n",
    "pf = pd.read_csv(portfolio_file)\n",
    "pf"
   ]
  },
  {
   "cell_type": "markdown",
   "metadata": {},
   "source": [
    "## Query API"
   ]
  },
  {
   "cell_type": "markdown",
   "metadata": {},
   "source": [
    "### Retrieve the currency exchange rate"
   ]
  },
  {
   "cell_type": "code",
   "execution_count": null,
   "metadata": {},
   "outputs": [],
   "source": [
    "currencies = pf['Currency'].unique().tolist()\n",
    "url = 'https://www.alphavantage.co/query?function=CURRENCY_EXCHANGE_RATE&apikey='+keys['alphavantage']\n",
    "rates = {my_currency:1}\n",
    "\n",
    "for c in currencies:\n",
    "    if c == my_currency:\n",
    "        continue\n",
    "    print('Getting exchange rates for %s' %c) \n",
    "    params = {'from_currency': c,\n",
    "              'to_currency': my_currency}\n",
    "    paramStrings = getParamString(params)\n",
    "    reqStatus, returnedStatus, data, tries = tryGET(3, url+'&'+ paramStrings , progress = True, sleep = 5)\n",
    "        \n",
    "    if 'Realtime Currency Exchange Rate' not in data:\n",
    "        xchange_rate = 'NA'\n",
    "    elif '5. Exchange Rate' not in data['Realtime Currency Exchange Rate']:\n",
    "        xchange_rate = 'NA'\n",
    "    else:\n",
    "        xchange_rate = float(data['Realtime Currency Exchange Rate']['5. Exchange Rate'])  \n",
    "    \n",
    "    rates[c] = xchange_rate"
   ]
  },
  {
   "cell_type": "markdown",
   "metadata": {},
   "source": [
    "### Retrieve the stock price"
   ]
  },
  {
   "cell_type": "code",
   "execution_count": null,
   "metadata": {},
   "outputs": [],
   "source": [
    "url = 'https://www.alphavantage.co/query?function=TIME_SERIES_DAILY&apikey='+keys['alphavantage']\n",
    "stock_price = {}\n",
    "\n",
    "for i in range(pf.shape[0]):\n",
    "    sym = pf.loc[i,'Symbol']\n",
    "    print('Getting closing price for %s' %sym)\n",
    "    \n",
    "    params = {'symbol': sym}\n",
    "    paramStrings = getParamString(params)\n",
    "    reqStatus, returnedStatus, data, tries = tryGET(3, url+'&'+ paramStrings , progress = True, sleep = 5)\n",
    "    \n",
    "    if 'Time Series (Daily)' not in data:\n",
    "        close_price = 'NA'\n",
    "    elif query_date not in data['Time Series (Daily)']:\n",
    "        close_price = 'NA'\n",
    "    elif '4. close' not in data['Time Series (Daily)'][query_date]:\n",
    "        close_price = 'NA'\n",
    "    else:\n",
    "        close_price = float(data['Time Series (Daily)'][query_date]['4. close'])        \n",
    "    \n",
    "    stock_price[sym] = close_price    "
   ]
  },
  {
   "cell_type": "markdown",
   "metadata": {},
   "source": [
    "### Calculate portfolio value"
   ]
  },
  {
   "cell_type": "code",
   "execution_count": null,
   "metadata": {},
   "outputs": [],
   "source": [
    "pf = pd.read_csv(portfolio_file)\n",
    "pf = pf.join(pd.Series([rates[c] for c in pf['Currency']], name = 'Exchange rate'))\n",
    "pf.set_index('Symbol', inplace = True)\n",
    "pf['Close price'] = pd.DataFrame.from_dict(stock_price, orient = 'Index')\n",
    "pf['Value'] = round(pf['Number of shares']*pf['Exchange rate']*pf['Close price'],2)\n",
    "print('Portfolio market value is %s %.2f' %(my_currency,round(pf['Value'].sum(),2)))\n",
    "pf"
   ]
  }
 ],
 "metadata": {
  "kernelspec": {
   "display_name": "Python 3",
   "language": "python",
   "name": "python3"
  },
  "language_info": {
   "codemirror_mode": {
    "name": "ipython",
    "version": 3
   },
   "file_extension": ".py",
   "mimetype": "text/x-python",
   "name": "python",
   "nbconvert_exporter": "python",
   "pygments_lexer": "ipython3",
   "version": "3.6.0"
  }
 },
 "nbformat": 4,
 "nbformat_minor": 2
}
